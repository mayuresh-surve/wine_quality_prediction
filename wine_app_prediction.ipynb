{
 "cells": [
  {
   "cell_type": "code",
   "execution_count": 24,
   "metadata": {
    "id": "ks_GmkvCDL34"
   },
   "outputs": [],
   "source": [
    "import pyspark"
   ]
  },
  {
   "cell_type": "code",
   "execution_count": 25,
   "metadata": {
    "id": "MplFdzytDWPP"
   },
   "outputs": [],
   "source": [
    "from pyspark.sql import SparkSession\n",
    "from pyspark.ml.feature import VectorAssembler\n",
    "from pyspark.ml.regression import GBTRegressor\n",
    "from pyspark.ml.evaluation import RegressionEvaluator\n",
    "from pyspark.rdd import reduce"
   ]
  },
  {
   "cell_type": "code",
   "execution_count": 26,
   "metadata": {
    "id": "UIXjtOyPDYdo"
   },
   "outputs": [],
   "source": [
    "spark = SparkSession.builder.appName('WineQualityPredictionApp').getOrCreate()"
   ]
  },
  {
   "cell_type": "code",
   "execution_count": 27,
   "metadata": {
    "colab": {
     "base_uri": "https://localhost:8080/"
    },
    "id": "BPWJtjMbDc2C",
    "outputId": "dac988fc-8526-4eae-d196-d76ecb2648c6"
   },
   "outputs": [
    {
     "name": "stdout",
     "output_type": "stream",
     "text": [
      "root\n",
      " |-- \"\"\"\"\"fixed acidity\"\"\"\": string (nullable = true)\n",
      " |-- \"\"\"\"volatile acidity\"\"\"\": string (nullable = true)\n",
      " |-- \"\"\"\"citric acid\"\"\"\": string (nullable = true)\n",
      " |-- \"\"\"\"residual sugar\"\"\"\": string (nullable = true)\n",
      " |-- \"\"\"\"chlorides\"\"\"\": string (nullable = true)\n",
      " |-- \"\"\"\"free sulfur dioxide\"\"\"\": string (nullable = true)\n",
      " |-- \"\"\"\"total sulfur dioxide\"\"\"\": string (nullable = true)\n",
      " |-- \"\"\"\"density\"\"\"\": string (nullable = true)\n",
      " |-- \"\"\"\"pH\"\"\"\": string (nullable = true)\n",
      " |-- \"\"\"\"sulphates\"\"\"\": string (nullable = true)\n",
      " |-- \"\"\"\"alcohol\"\"\"\": string (nullable = true)\n",
      " |-- \"\"\"\"quality\"\"\"\"\": string (nullable = true)\n",
      "\n"
     ]
    }
   ],
   "source": [
    "train_dataset= spark.read.format(\"com.databricks.spark.csv\").csv(\n",
    "    'TrainingDataset.csv', header=True, sep=\";\")\n",
    "train_dataset.printSchema()"
   ]
  },
  {
   "cell_type": "code",
   "execution_count": 28,
   "metadata": {
    "colab": {
     "base_uri": "https://localhost:8080/"
    },
    "id": "3V0AhB4eDtoN",
    "outputId": "10842501-475e-4d83-ebdd-517960754550"
   },
   "outputs": [
    {
     "name": "stdout",
     "output_type": "stream",
     "text": [
      "+----------------------+------------------------+-------------------+----------------------+-----------------+---------------------------+----------------------------+---------------+----------+-----------------+---------------+----------------+\n",
      "|\"\"\"\"\"fixed acidity\"\"\"\"|\"\"\"\"volatile acidity\"\"\"\"|\"\"\"\"citric acid\"\"\"\"|\"\"\"\"residual sugar\"\"\"\"|\"\"\"\"chlorides\"\"\"\"|\"\"\"\"free sulfur dioxide\"\"\"\"|\"\"\"\"total sulfur dioxide\"\"\"\"|\"\"\"\"density\"\"\"\"|\"\"\"\"pH\"\"\"\"|\"\"\"\"sulphates\"\"\"\"|\"\"\"\"alcohol\"\"\"\"|\"\"\"\"quality\"\"\"\"\"|\n",
      "+----------------------+------------------------+-------------------+----------------------+-----------------+---------------------------+----------------------------+---------------+----------+-----------------+---------------+----------------+\n",
      "|                   8.9|                    0.22|               0.48|                   1.8|            0.077|                         29|                          60|         0.9968|      3.39|             0.53|            9.4|               6|\n",
      "|                   7.6|                    0.39|               0.31|                   2.3|            0.082|                         23|                          71|         0.9982|      3.52|             0.65|            9.7|               5|\n",
      "|                   7.9|                    0.43|               0.21|                   1.6|            0.106|                         10|                          37|         0.9966|      3.17|             0.91|            9.5|               5|\n",
      "|                   8.5|                    0.49|               0.11|                   2.3|            0.084|                          9|                          67|         0.9968|      3.17|             0.53|            9.4|               5|\n",
      "|                   6.9|                     0.4|               0.14|                   2.4|            0.085|                         21|                          40|         0.9968|      3.43|             0.63|            9.7|               6|\n",
      "|                   6.3|                    0.39|               0.16|                   1.4|             0.08|                         11|                          23|         0.9955|      3.34|             0.56|            9.3|               5|\n",
      "|                   7.6|                    0.41|               0.24|                   1.8|             0.08|                          4|                          11|         0.9962|      3.28|             0.59|            9.5|               5|\n",
      "|                   7.9|                    0.43|               0.21|                   1.6|            0.106|                         10|                          37|         0.9966|      3.17|             0.91|            9.5|               5|\n",
      "|                   7.1|                    0.71|                  0|                   1.9|             0.08|                         14|                          35|         0.9972|      3.47|             0.55|            9.4|               5|\n",
      "|                   7.8|                   0.645|                  0|                     2|            0.082|                          8|                          16|         0.9964|      3.38|             0.59|            9.8|               6|\n",
      "|                   6.7|                   0.675|               0.07|                   2.4|            0.089|                         17|                          82|         0.9958|      3.35|             0.54|           10.1|               5|\n",
      "|                   6.9|                   0.685|                  0|                   2.5|            0.105|                         22|                          37|         0.9966|      3.46|             0.57|           10.6|               6|\n",
      "|                   8.3|                   0.655|               0.12|                   2.3|            0.083|                         15|                         113|         0.9966|      3.17|             0.66|            9.8|               5|\n",
      "|                   6.9|                   0.605|               0.12|                  10.7|            0.073|                         40|                          83|         0.9993|      3.45|             0.52|            9.4|               6|\n",
      "|                   5.2|                    0.32|               0.25|                   1.8|            0.103|                         13|                          50|         0.9957|      3.38|             0.55|            9.2|               5|\n",
      "|                   7.8|                   0.645|                  0|                   5.5|            0.086|                          5|                          18|         0.9986|       3.4|             0.55|            9.6|               6|\n",
      "|                   7.8|                     0.6|               0.14|                   2.4|            0.086|                          3|                          15|         0.9975|      3.42|              0.6|           10.8|               6|\n",
      "|                   8.1|                    0.38|               0.28|                   2.1|            0.066|                         13|                          30|         0.9968|      3.23|             0.73|            9.7|               7|\n",
      "|                   5.7|                    1.13|               0.09|                   1.5|            0.172|                          7|                          19|          0.994|       3.5|             0.48|            9.8|               4|\n",
      "|                   7.3|                    0.45|               0.36|                   5.9|            0.074|                         12|                          87|         0.9978|      3.33|             0.83|           10.5|               5|\n",
      "+----------------------+------------------------+-------------------+----------------------+-----------------+---------------------------+----------------------------+---------------+----------+-----------------+---------------+----------------+\n",
      "only showing top 20 rows\n",
      "\n"
     ]
    }
   ],
   "source": [
    "train_dataset.show()"
   ]
  },
  {
   "cell_type": "code",
   "execution_count": 29,
   "metadata": {
    "colab": {
     "base_uri": "https://localhost:8080/"
    },
    "id": "M1q1m2_wMg9M",
    "outputId": "25405d4d-82b1-4914-a933-afe0b9602f4b"
   },
   "outputs": [
    {
     "name": "stdout",
     "output_type": "stream",
     "text": [
      "root\n",
      " |-- \"\"\"fixed acidity\"\"\"\": string (nullable = true)\n",
      " |-- \"\"\"\"volatile acidity\"\"\"\": string (nullable = true)\n",
      " |-- \"\"\"\"citric acid\"\"\"\": string (nullable = true)\n",
      " |-- \"\"\"\"residual sugar\"\"\"\": string (nullable = true)\n",
      " |-- \"\"\"\"chlorides\"\"\"\": string (nullable = true)\n",
      " |-- \"\"\"\"free sulfur dioxide\"\"\"\": string (nullable = true)\n",
      " |-- \"\"\"\"total sulfur dioxide\"\"\"\": string (nullable = true)\n",
      " |-- \"\"\"\"density\"\"\"\": string (nullable = true)\n",
      " |-- \"\"\"\"pH\"\"\"\": string (nullable = true)\n",
      " |-- \"\"\"\"sulphates\"\"\"\": string (nullable = true)\n",
      " |-- \"\"\"\"alcohol\"\"\"\": string (nullable = true)\n",
      " |-- \"\"\"\"quality\"\"\"\"\": string (nullable = true)\n",
      "\n"
     ]
    }
   ],
   "source": [
    "validation_dataset= spark.read.format(\"com.databricks.spark.csv\").csv(\n",
    "    'ValidationDataset.csv', header=True, sep=\";\")\n",
    "validation_dataset.printSchema()"
   ]
  },
  {
   "cell_type": "code",
   "execution_count": 30,
   "metadata": {
    "colab": {
     "base_uri": "https://localhost:8080/"
    },
    "id": "usXv0PsrQUh7",
    "outputId": "37352cef-4464-4dfd-9fdb-6fec94c38317"
   },
   "outputs": [
    {
     "data": {
      "text/plain": [
       "['fixed acidity',\n",
       " 'volatile acidity',\n",
       " 'citric acid',\n",
       " 'residual sugar',\n",
       " 'chlorides',\n",
       " 'free sulfur dioxide',\n",
       " 'total sulfur dioxide',\n",
       " 'density',\n",
       " 'pH',\n",
       " 'sulphates',\n",
       " 'alcohol',\n",
       " 'quality']"
      ]
     },
     "execution_count": 30,
     "metadata": {},
     "output_type": "execute_result"
    }
   ],
   "source": [
    "#To clean out CSV headers if quotes are present\n",
    "old_train_dataset_column_name = train_dataset.schema.names\n",
    "old_validation_dataset_column_name = validation_dataset.schema.names\n",
    "clean_train_dataset_column_name = []\n",
    "clean_validation_dataset_column_name = []\n",
    "\n",
    "for name in old_train_dataset_column_name:\n",
    "    clean_train_dataset_column_name.append(name.replace('\"',''))\n",
    "clean_train_dataset_column_name\n",
    "\n",
    "for name in old_validation_dataset_column_name:\n",
    "    clean_validation_dataset_column_name.append(name.replace('\"',''))\n",
    "\n",
    "clean_validation_dataset_column_name"
   ]
  },
  {
   "cell_type": "code",
   "execution_count": 31,
   "metadata": {
    "id": "BnmwYkgLQoRd"
   },
   "outputs": [],
   "source": [
    "train_dataset = reduce(lambda train_dataset, idx: train_dataset.withColumnRenamed(old_train_dataset_column_name[idx], clean_train_dataset_column_name[idx]), range(len(clean_train_dataset_column_name)), train_dataset)\n",
    "validation_dataset = reduce(lambda validation_dataset, idx: validation_dataset.withColumnRenamed(old_validation_dataset_column_name[idx], clean_validation_dataset_column_name[idx]), range(len(clean_validation_dataset_column_name)), validation_dataset)"
   ]
  },
  {
   "cell_type": "code",
   "execution_count": 32,
   "metadata": {
    "id": "1wUk_8F8M19F"
   },
   "outputs": [],
   "source": [
    "train_dataset=train_dataset.distinct()\n",
    "validation_dataset=validation_dataset.distinct()"
   ]
  },
  {
   "cell_type": "code",
   "execution_count": 33,
   "metadata": {
    "id": "T3my7xUAMbL5"
   },
   "outputs": [],
   "source": [
    "total_columns = train_dataset.columns\n",
    "tot_columns=validation_dataset.columns"
   ]
  },
  {
   "cell_type": "code",
   "execution_count": 34,
   "metadata": {
    "id": "T23L-MsXM56J"
   },
   "outputs": [],
   "source": [
    "from pyspark.sql.functions import col\n",
    "def preprocess(dataset):\n",
    "    return dataset.select(*(col(c).cast(\"double\").alias(c) for c in dataset.columns))\n",
    "train_dataset = preprocess(train_dataset)\n",
    "validation_dataset = preprocess(validation_dataset)"
   ]
  },
  {
   "cell_type": "code",
   "execution_count": 35,
   "metadata": {
    "id": "5TYD6C3REXeB"
   },
   "outputs": [],
   "source": [
    "from pyspark.ml.feature import MinMaxScaler\n",
    "from pyspark.ml import Pipeline\n",
    "from pyspark.sql.functions import udf\n",
    "from pyspark.sql.types import DoubleType\n",
    "stages = []\n",
    "unlist = udf(lambda x: round(float(list(x)[0]),3), DoubleType())"
   ]
  },
  {
   "cell_type": "code",
   "execution_count": 36,
   "metadata": {
    "id": "rCRPLmYxMH7e"
   },
   "outputs": [],
   "source": [
    "for column_name in total_columns[:-1]:\n",
    "    stages = []\n",
    "    vectorAssembler = VectorAssembler(inputCols=[column_name],outputCol=column_name+'_vect')\n",
    "    stages.append(vectorAssembler)\n",
    "    stages.append(MinMaxScaler(inputCol=column_name+'_vect', outputCol=column_name+'_scaled'))\n",
    "    pipeline = Pipeline(stages=stages)\n",
    "    train_dataset = pipeline.fit(train_dataset).transform(train_dataset).withColumn(\n",
    "        column_name+\"_scaled\", unlist(column_name+\"_scaled\")).drop(column_name+\"_vect\").drop(column_name)"
   ]
  },
  {
   "cell_type": "code",
   "execution_count": 37,
   "metadata": {
    "colab": {
     "base_uri": "https://localhost:8080/"
    },
    "id": "8ZYETacGMV7Y",
    "outputId": "b0159d36-1e36-4e07-8b7d-3f9c3c6e2bf6"
   },
   "outputs": [
    {
     "name": "stderr",
     "output_type": "stream",
     "text": [
      "[Stage 268:>                                                        (0 + 1) / 1]\r"
     ]
    },
    {
     "name": "stdout",
     "output_type": "stream",
     "text": [
      "+-------+--------------------+-----------------------+------------------+---------------------+----------------+--------------------------+---------------------------+--------------+---------+----------------+--------------+\n",
      "|quality|fixed acidity_scaled|volatile acidity_scaled|citric acid_scaled|residual sugar_scaled|chlorides_scaled|free sulfur dioxide_scaled|total sulfur dioxide_scaled|density_scaled|pH_scaled|sulphates_scaled|alcohol_scaled|\n",
      "+-------+--------------------+-----------------------+------------------+---------------------+----------------+--------------------------+---------------------------+--------------+---------+----------------+--------------+\n",
      "|    5.0|               0.409|                  0.226|              0.35|                0.103|            0.08|                      0.31|                      0.254|         0.634|    0.504|           0.174|         0.182|\n",
      "|    5.0|               0.364|                  0.414|              0.24|                0.393|           0.144|                     0.423|                      0.452|         0.832|    0.457|           0.443|         0.145|\n",
      "|    5.0|               0.491|                  0.116|               0.4|                0.138|           0.111|                     0.127|                      0.071|         0.773|    0.583|           0.347|         0.218|\n",
      "|    6.0|                 0.3|                  0.267|              0.25|                0.138|           0.075|                     0.282|                      0.138|         0.538|    0.591|           0.377|         0.655|\n",
      "|    5.0|               0.227|                  0.233|              0.14|                0.131|           0.073|                     0.197|                       0.11|         0.453|    0.488|           0.096|           0.4|\n",
      "+-------+--------------------+-----------------------+------------------+---------------------+----------------+--------------------------+---------------------------+--------------+---------+----------------+--------------+\n",
      "only showing top 5 rows\n",
      "\n"
     ]
    },
    {
     "name": "stderr",
     "output_type": "stream",
     "text": [
      "                                                                                \r"
     ]
    }
   ],
   "source": [
    "train_dataset.show(5)"
   ]
  },
  {
   "cell_type": "code",
   "execution_count": 38,
   "metadata": {
    "id": "y8rYW7sUNF4I"
   },
   "outputs": [],
   "source": [
    "for column_name in total_columns[:-1]:\n",
    "    stages = []\n",
    "    vectorAssembler = VectorAssembler(inputCols=[column_name],outputCol=column_name+'_vect')\n",
    "    stages.append(vectorAssembler)\n",
    "    stages.append(MinMaxScaler(inputCol=column_name+'_vect', outputCol=column_name+'_scaled'))\n",
    "    pipeline = Pipeline(stages=stages)\n",
    "    validation_dataset = pipeline.fit(validation_dataset).transform(validation_dataset).withColumn(\n",
    "        column_name+\"_scaled\", unlist(column_name+\"_scaled\")).drop(column_name+\"_vect\").drop(column_name)"
   ]
  },
  {
   "cell_type": "code",
   "execution_count": 39,
   "metadata": {
    "id": "izTAqQ6jNhwJ"
   },
   "outputs": [
    {
     "name": "stderr",
     "output_type": "stream",
     "text": [
      "[Stage 337:>                                                        (0 + 1) / 1]\r"
     ]
    },
    {
     "name": "stdout",
     "output_type": "stream",
     "text": [
      "+-------+--------------------+-----------------------+------------------+---------------------+----------------+--------------------------+---------------------------+--------------+---------+----------------+--------------+\n",
      "|quality|fixed acidity_scaled|volatile acidity_scaled|citric acid_scaled|residual sugar_scaled|chlorides_scaled|free sulfur dioxide_scaled|total sulfur dioxide_scaled|density_scaled|pH_scaled|sulphates_scaled|alcohol_scaled|\n",
      "+-------+--------------------+-----------------------+------------------+---------------------+----------------+--------------------------+---------------------------+--------------+---------+----------------+--------------+\n",
      "|    5.0|               0.422|                  0.072|             0.547|                0.056|           0.109|                     0.098|                      0.043|         0.521|    0.424|           0.179|          0.26|\n",
      "|    6.0|               0.284|                  0.301|             0.347|                0.049|           0.102|                     0.431|                      0.305|          0.53|    0.576|           0.205|          0.16|\n",
      "|    5.0|               0.991|                  0.524|             0.653|                 0.21|           0.118|                     0.176|                      0.092|           1.0|    0.061|           0.205|          0.54|\n",
      "|    5.0|               0.229|                  0.337|              0.32|                 0.07|           0.059|                     0.078|                      0.184|         0.335|    0.475|           0.038|           0.2|\n",
      "|    5.0|               0.661|                  0.205|             0.653|                0.105|           0.126|                     0.216|                      0.227|         0.744|    0.303|           0.122|          0.38|\n",
      "+-------+--------------------+-----------------------+------------------+---------------------+----------------+--------------------------+---------------------------+--------------+---------+----------------+--------------+\n",
      "only showing top 5 rows\n",
      "\n"
     ]
    },
    {
     "name": "stderr",
     "output_type": "stream",
     "text": [
      "                                                                                \r"
     ]
    }
   ],
   "source": [
    "validation_dataset.show(5)"
   ]
  },
  {
   "cell_type": "code",
   "execution_count": 40,
   "metadata": {
    "id": "WsDqJCUiNWkF"
   },
   "outputs": [],
   "source": [
    "vectorAssembler = VectorAssembler(\n",
    "    inputCols=[column_name+\"_scaled\" for column_name in total_columns[:-1]],\n",
    "    outputCol='features')"
   ]
  },
  {
   "cell_type": "code",
   "execution_count": 41,
   "metadata": {
    "id": "q1qQtRWChYhQ"
   },
   "outputs": [],
   "source": [
    "from pyspark.ml.classification import RandomForestClassifier\n",
    "from pyspark.ml import Pipeline\n",
    "from pyspark.ml.evaluation import MulticlassClassificationEvaluator\n",
    "\n",
    "from pyspark.ml.feature import IndexToString, StringIndexer, VectorIndexer"
   ]
  },
  {
   "cell_type": "code",
   "execution_count": 42,
   "metadata": {
    "id": "PCMLmDgRhkjT"
   },
   "outputs": [],
   "source": [
    "labelIndexer = StringIndexer(inputCol=total_columns[-1], outputCol=\"indexedLabel\").fit(train_dataset)\n",
    "\n",
    "\n",
    "rf = RandomForestClassifier(labelCol='indexedLabel', featuresCol=\"features\", numTrees=200)\n",
    "\n",
    "labelConverter = IndexToString(inputCol=\"prediction\", outputCol=\"predictedLabel\",\n",
    "                               labels=labelIndexer.labels)\n",
    "\n",
    "\n",
    "pipeline = Pipeline(stages=[labelIndexer, vectorAssembler, rf, labelConverter])"
   ]
  },
  {
   "cell_type": "code",
   "execution_count": 43,
   "metadata": {
    "id": "MfI3PWzzjykF"
   },
   "outputs": [
    {
     "name": "stderr",
     "output_type": "stream",
     "text": [
      "23/12/06 19:44:13 WARN DAGScheduler: Broadcasting large task binary with size 1408.1 KiB\n"
     ]
    }
   ],
   "source": [
    "model = pipeline.fit(train_dataset)"
   ]
  },
  {
   "cell_type": "code",
   "execution_count": 44,
   "metadata": {},
   "outputs": [],
   "source": [
    "model.write().overwrite().save(\"models/rf\")"
   ]
  },
  {
   "cell_type": "code",
   "execution_count": 45,
   "metadata": {
    "id": "muX-Nu9xhxjI"
   },
   "outputs": [
    {
     "name": "stdout",
     "output_type": "stream",
     "text": [
      "+--------------+-------+--------------------+\n",
      "|predictedLabel|quality|            features|\n",
      "+--------------+-------+--------------------+\n",
      "|           6.0|    5.0|[0.422,0.072,0.54...|\n",
      "|           5.0|    6.0|[0.284,0.301,0.34...|\n",
      "|           6.0|    5.0|[0.991,0.524,0.65...|\n",
      "|           5.0|    5.0|[0.229,0.337,0.32...|\n",
      "|           5.0|    5.0|[0.661,0.205,0.65...|\n",
      "+--------------+-------+--------------------+\n",
      "only showing top 5 rows\n",
      "\n"
     ]
    },
    {
     "name": "stderr",
     "output_type": "stream",
     "text": [
      "23/12/06 19:44:14 WARN DAGScheduler: Broadcasting large task binary with size 1680.6 KiB\n"
     ]
    }
   ],
   "source": [
    "predictions = model.transform(validation_dataset)\n",
    "\n",
    "# Select example rows to display.\n",
    "predictions.select(\"predictedLabel\", total_columns[-1], \"features\").show(5)"
   ]
  },
  {
   "cell_type": "code",
   "execution_count": 46,
   "metadata": {
    "id": "O_aSLQ7Ih8dp"
   },
   "outputs": [
    {
     "name": "stderr",
     "output_type": "stream",
     "text": [
      "23/12/06 19:44:14 WARN DAGScheduler: Broadcasting large task binary with size 1703.8 KiB\n"
     ]
    },
    {
     "name": "stdout",
     "output_type": "stream",
     "text": [
      "Accuracy is:  0.5661764705882353\n",
      "F1 Score:  0.52860319906795\n"
     ]
    },
    {
     "name": "stderr",
     "output_type": "stream",
     "text": [
      "23/12/06 19:44:14 WARN DAGScheduler: Broadcasting large task binary with size 1703.8 KiB\n"
     ]
    }
   ],
   "source": [
    "# Select (prediction, true label) and compute test error\n",
    "evaluator = MulticlassClassificationEvaluator(\n",
    "    labelCol=\"indexedLabel\", predictionCol=\"prediction\")\n",
    "accuracy = evaluator.evaluate(predictions, {evaluator.metricName: \"accuracy\"})\n",
    "f1_score = evaluator.evaluate(predictions, {evaluator.metricName: \"f1\"})\n",
    "\n",
    "print(\"Accuracy is: \", accuracy)\n",
    "print(\"F1 Score: \", f1_score)"
   ]
  },
  {
   "cell_type": "code",
   "execution_count": null,
   "metadata": {
    "id": "V6nYjlmIiDaF"
   },
   "outputs": [],
   "source": []
  }
 ],
 "metadata": {
  "colab": {
   "provenance": []
  },
  "kernelspec": {
   "display_name": "Python 3 (ipykernel)",
   "language": "python",
   "name": "python3"
  },
  "language_info": {
   "codemirror_mode": {
    "name": "ipython",
    "version": 3
   },
   "file_extension": ".py",
   "mimetype": "text/x-python",
   "name": "python",
   "nbconvert_exporter": "python",
   "pygments_lexer": "ipython3",
   "version": "3.11.4"
  }
 },
 "nbformat": 4,
 "nbformat_minor": 1
}
