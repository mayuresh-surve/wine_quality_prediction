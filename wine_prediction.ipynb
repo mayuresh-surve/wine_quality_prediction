{
 "cells": [
  {
   "cell_type": "code",
   "execution_count": 11,
   "metadata": {},
   "outputs": [],
   "source": [
    "import pyspark\n",
    "import argparse\n",
    "from pyspark.ml.regression import GBTRegressionModel\n",
    "from pyspark.sql import SparkSession\n",
    "from pyspark.ml.feature import MinMaxScaler\n",
    "from pyspark.ml import PipelineModel, Pipeline\n",
    "from pyspark.sql.functions import udf\n",
    "from pyspark.sql.types import DoubleType\n",
    "from pyspark.sql.functions import col\n",
    "from pyspark.ml.feature import VectorAssembler                    \n",
    "from pyspark.ml.regression import GBTRegressor\n",
    "import pyspark.sql.functions as func\n",
    "from pyspark.mllib.evaluation import MulticlassMetrics\n",
    "from pyspark.rdd import reduce\n"
   ]
  },
  {
   "cell_type": "code",
   "execution_count": 12,
   "metadata": {},
   "outputs": [],
   "source": [
    "spark = SparkSession.builder.appName('WineApp_Prediction').getOrCreate()"
   ]
  },
  {
   "cell_type": "code",
   "execution_count": 13,
   "metadata": {},
   "outputs": [],
   "source": [
    "def read_csv(file_path):\n",
    "    return spark.read.format(\"com.databricks.spark.csv\").csv(\n",
    "        file_path, header=True, sep=\";\")"
   ]
  },
  {
   "cell_type": "code",
   "execution_count": 14,
   "metadata": {},
   "outputs": [],
   "source": [
    "def load_model(path):\n",
    "    return PipelineModel.load(path) # for random forest"
   ]
  },
  {
   "cell_type": "code",
   "execution_count": 16,
   "metadata": {},
   "outputs": [],
   "source": [
    "def preprocess(df):\n",
    "    total_columns = df.columns\n",
    "    df = df.select(*(col(c).cast(\"double\").alias(c) for c in df.columns))\n",
    "\n",
    "    stages = []\n",
    "    unlist = udf(lambda x: round(float(list(x)[0]),3), DoubleType())\n",
    "\n",
    "    old_train_dataset_column_name = df.schema.names\n",
    "    clean_train_dataset_column_name = []\n",
    "\n",
    "    for name in old_train_dataset_column_name:\n",
    "        clean_train_dataset_column_name.append(name.replace('\"',''))\n",
    "    print(clean_train_dataset_column_name)\n",
    "    df = reduce(lambda df, idx: df.withColumnRenamed(old_train_dataset_column_name[idx], clean_train_dataset_column_name[idx]), range(len(clean_train_dataset_column_name)), df)\n",
    "\n",
    "    \n",
    "    for column_name in total_columns[:-1]:\n",
    "        stages = []\n",
    "        vectorAssembler = VectorAssembler(inputCols=[column_name],outputCol=column_name+'_vect')\n",
    "        stages.append(vectorAssembler)\n",
    "        stages.append(MinMaxScaler(inputCol=column_name+'_vect', outputCol=column_name+'_scaled'))\n",
    "        pipeline = Pipeline(stages=stages)\n",
    "        df = pipeline.fit(df).transform(df).withColumn(\n",
    "            column_name+\"_scaled\", unlist(column_name+\"_scaled\")).drop(\n",
    "            column_name+\"_vect\").drop(column_name)\n",
    "    return df, total_columns"
   ]
  },
  {
   "cell_type": "code",
   "execution_count": 6,
   "metadata": {},
   "outputs": [],
   "source": [
    "def get_predictions(model, df):\n",
    "    return model.transform(df)"
   ]
  },
  {
   "cell_type": "code",
   "execution_count": 7,
   "metadata": {},
   "outputs": [],
   "source": [
    "def run(test_file):\n",
    "    df = read_csv(test_file)\n",
    "    df, total_columns = preprocess(df)\n",
    "    model = load_model(\"models/rf/\")\n",
    "    df = get_predictions(model, df)\n",
    "    return df, total_columns"
   ]
  },
  {
   "cell_type": "code",
   "execution_count": 8,
   "metadata": {},
   "outputs": [],
   "source": [
    "def print_f1(df, total_columns):\n",
    "    label_column = total_columns[-1]\n",
    "    predictionAndLabels = df.select(['indexedLabel', \"prediction\"])\n",
    "    labels = df.select([label_column]).distinct()\n",
    "    header = labels.rdd.first()\n",
    "    labels = labels.rdd.filter(lambda line: line !=header)\n",
    "    header = predictionAndLabels.rdd.first()\n",
    "    copy_predictionAndLabels = predictionAndLabels.rdd.filter(lambda line: line != header)\n",
    "    copy_predictionAndLabel = copy_predictionAndLabels.map(lambda lp: (float(lp[0]), float(lp[1])))\n",
    "    metrics = MulticlassMetrics(copy_predictionAndLabel)\n",
    "    # Overall statistics\n",
    "    precision = metrics.precision()\n",
    "    recall = metrics.recall()\n",
    "    f1Score = metrics.fMeasure()\n",
    "    print(\"Summary Stats\")\n",
    "    print(\"Precision = %s\" % precision)\n",
    "    print(\"Recall = %s\" % recall)\n",
    "    print(\"F1 Score = %s\" % f1Score)"
   ]
  },
  {
   "cell_type": "code",
   "execution_count": 10,
   "metadata": {},
   "outputs": [
    {
     "name": "stderr",
     "output_type": "stream",
     "text": [
      "usage: ipykernel_launcher.py [-h] --test_file TEST_FILE\n",
      "ipykernel_launcher.py: error: the following arguments are required: --test_file\n"
     ]
    },
    {
     "ename": "SystemExit",
     "evalue": "2",
     "output_type": "error",
     "traceback": [
      "An exception has occurred, use %tb to see the full traceback.\n",
      "\u001b[0;31mSystemExit\u001b[0m\u001b[0;31m:\u001b[0m 2\n"
     ]
    }
   ],
   "source": [
    "import argparse\n",
    "parser = argparse.ArgumentParser(description='Wine Quality prediction')\n",
    "parser.add_argument('--test_file', required=True, help='please provide test file path you can provide s3 path or local file path')\n",
    "args = parser.parse_args()\n",
    "df, total_columns = run(args.test_file)\n",
    "print_f1(df, total_columns)"
   ]
  },
  {
   "cell_type": "code",
   "execution_count": null,
   "metadata": {},
   "outputs": [],
   "source": []
  }
 ],
 "metadata": {
  "kernelspec": {
   "display_name": "base",
   "language": "python",
   "name": "python3"
  },
  "language_info": {
   "codemirror_mode": {
    "name": "ipython",
    "version": 3
   },
   "file_extension": ".py",
   "mimetype": "text/x-python",
   "name": "python",
   "nbconvert_exporter": "python",
   "pygments_lexer": "ipython3",
   "version": "3.11.4"
  }
 },
 "nbformat": 4,
 "nbformat_minor": 2
}
